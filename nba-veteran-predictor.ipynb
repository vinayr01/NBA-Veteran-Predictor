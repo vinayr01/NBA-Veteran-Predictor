{
  "nbformat": 4,
  "nbformat_minor": 0,
  "metadata": {
    "colab": {
      "provenance": []
    },
    "kernelspec": {
      "display_name": "Python 3",
      "name": "python3"
    },
    "language_info": {
      "name": "python"
    }
  },
  "cells": [
    {
      "cell_type": "markdown",
      "metadata": {
        "id": "SE_6EOMj9115"
      },
      "source": [
        "**DATA 301 Final Project** \\\n",
        "Nick Gammal, Vinay Rajaratnam, Katherine Chan, Grant Holland"
      ]
    },
    {
      "cell_type": "markdown",
      "metadata": {
        "id": "mqFLppwI93sl"
      },
      "source": [
        "**Project Plan**\n",
        "\n",
        "*Goal*: Use an NBA rookie's stats to determine if they will become a veteran, as defined by the NBA. Stats are retrieved from https://stats.nba.com/stats/leaguedashplayerstats (visualized on  https://www.nba.com/stats/players/traditional) and https://stats.nba.com/stats/playerindex (visualized on https://www.nba.com/players).\n",
        "\n",
        "*Model*: Dense Neural Network with three hidden layers. Dropout and BatchNormalization layers in between every densely connected layer.\n",
        "\n",
        "*Input Data*: [AGE, GP, MIN, PTS, FG_PCT, FG3_PCT, FT_PCT, OREB, DREB, AST, TOV, STL, BLK, POS]. All input data will be normalized for the season. The scope of our training and validation data will be all seasons from 2003-2017 inclusive.\n",
        "\n",
        "*Output Data*: Binary value (became a veteran or not)."
      ]
    },
    {
      "cell_type": "markdown",
      "metadata": {
        "id": "x4GyD-RqDLyX"
      },
      "source": [
        "Imports"
      ]
    },
    {
      "cell_type": "code",
      "metadata": {
        "id": "aPh9Vahc18_x"
      },
      "source": [
        "import numpy as np\n",
        "import pandas as pd\n",
        "import requests\n",
        "from sklearn.model_selection import train_test_split\n",
        "from sklearn.preprocessing import OneHotEncoder\n",
        "from tensorflow.keras import models, layers, metrics, callbacks\n",
        "\n",
        "import matplotlib.pyplot as plt\n",
        "import seaborn as sbn"
      ],
      "execution_count": null,
      "outputs": []
    },
    {
      "cell_type": "markdown",
      "metadata": {
        "id": "rDTjwaQSDOTl"
      },
      "source": [
        "Global Variables"
      ]
    },
    {
      "cell_type": "code",
      "metadata": {
        "id": "WRjob9Oj8a9-"
      },
      "source": [
        "gameplay_url = 'https://stats.nba.com/stats/leaguedashplayerstats?College=&Conference=&Country=&DateFrom=&DateTo=&Division=&DraftPick=&DraftYear=&GameScope=&GameSegment=&Height=&LastNGames=0&LeagueID=00&Location=&MeasureType=Base&Month=0&OpponentTeamID=0&Outcome=&PORound=0&PaceAdjust=N&PerMode=PerGame&Period=0&PlayerPosition=&PlusMinus=N&Rank=N&SeasonSegment=&SeasonType=Regular+Season&ShotClockRange=&StarterBench=&TeamID=0&TwoWay=0&VsConference=&VsDivision=&Weight='\n",
        "\n",
        "gameplay_params = {'PlayerExperience': '', 'Season': '2021-22'}\n",
        "\n",
        "desired_gameplay_stats = [\n",
        "    'PLAYER_NAME',\n",
        "    'TEAM_ABBREVIATION',\n",
        "    'AGE',\n",
        "    'GP',\n",
        "    'MIN',\n",
        "    'PTS',\n",
        "    'FG_PCT',\n",
        "    'FG3_PCT',\n",
        "    'FT_PCT',\n",
        "    'OREB',\n",
        "    'DREB',\n",
        "    'AST',\n",
        "    'STL',\n",
        "    'BLK',\n",
        "    'TOV',\n",
        "    'PLUS_MINUS'\n",
        "]\n",
        "\n",
        "bio_url = 'https://stats.nba.com/stats/playerindex?College=&Country=&DraftPick=&DraftRound=&DraftYear=&Height=&Historical=1&LeagueID=00&Season=2021-22&SeasonType=Regular%20Season&TeamID=0&Weight='\n",
        "\n",
        "desired_bio_stats = [\n",
        "    'POSITION',\n",
        "    'HEIGHT',\n",
        "    'WEIGHT'\n",
        "]\n",
        "\n",
        "headers = {'Accept-Language': 'en-US,en;q=0.9', 'Origin': 'https://www.nba.com', 'Referer': 'https://www.nba.com/', 'User-Agent': 'Mozilla/5.0 (Macintosh; Intel Mac OS X 10_15_7) AppleWebKit/537.36 (KHTML, like Gecko) Chrome/95.0.4638.69 Safari/537.36'}\n",
        "\n",
        "# Seasonally adjusted stats\n",
        "SA_stats = [\n",
        "    'GP',\n",
        "    'MIN',\n",
        "    'PTS',\n",
        "    'FG_PCT',\n",
        "    'FG3_PCT',\n",
        "    'FT_PCT',\n",
        "    'OREB',\n",
        "    'DREB',\n",
        "    'AST',\n",
        "    'TOV',\n",
        "    'STL',\n",
        "    'BLK',\n",
        "    'PLUS_MINUS'\n",
        "]\n",
        "\n",
        "# Non seasonally adjusted stats\n",
        "NSA_stats = [\n",
        "    'AGE',\n",
        "    'HEIGHT',\n",
        "    'WEIGHT'\n",
        "]\n",
        "\n",
        "# Stats dependent on minutes\n",
        "per_minute_stats = [\n",
        "    'PTS',\n",
        "    'OREB',\n",
        "    'DREB',\n",
        "    'AST',\n",
        "    'TOV',\n",
        "    'STL',\n",
        "    'BLK'\n",
        "]\n",
        "\n",
        "ID_columns = [\n",
        "    'PLAYER_NAME',\n",
        "    'TEAM_ABBREVIATION',\n",
        "    'POSITION'\n",
        "]\n",
        "\n",
        "NBA_start_year = '1996-97'\n",
        "NBA_end_year = '2021-22'"
      ],
      "execution_count": null,
      "outputs": []
    },
    {
      "cell_type": "markdown",
      "metadata": {
        "id": "vHTpGI5ZDQn-"
      },
      "source": [
        "Functions"
      ]
    },
    {
      "cell_type": "code",
      "metadata": {
        "id": "FVV9MlWA8F0h"
      },
      "source": [
        "# Scrapes the NBA website for a dataframe of players and their stats, by year\n",
        "def get_player_stats(year, experience=''):\n",
        "  gameplay_params['Season'] = year\n",
        "  gameplay_params['PlayerExperience'] = experience\n",
        "\n",
        "  response = requests.get(gameplay_url, params=gameplay_params, headers=headers)\n",
        "response.raise_for_status()\n",
        "  json = response.json()\n",
        "  table = json['resultSets'][0]\n",
        "  df = pd.DataFrame(table['rowSet'], columns=table['headers']).set_index('PLAYER_ID')\n",
        "  df[per_minute_stats] = df[per_minute_stats].div(df['MIN'], axis=0)\n",
        "\n",
        "  return df\n",
        "\n",
        "# Converts year from 'XXXX-XX' str to XXXX int\n",
        "def year_str_to_int(year):\n",
        "  return int(year[:4])\n",
        "\n",
        "# Converts year from XXXX int to 'XXXX-XX' str\n",
        "def year_int_to_str(year):\n",
        "  return str(year)+'-'+str(year+1)[-2:]\n",
        "\n",
        "# Scrapes the NBA website for a dataframe of all players and their stats over a range of years, and stores in a csv\n",
        "def scrape_player_stats(start_year, end_year):\n",
        "  player_stats = pd.DataFrame()\n",
        "  for year in range(year_str_to_int(start_year), year_str_to_int(end_year)+1):\n",
        "    season_rookies = get_player_stats(year_int_to_str(year), experience='Rookie')\n",
        "    season_sophomores = get_player_stats(year_int_to_str(year), experience='Sophomore')\n",
        "    season_veterans = get_player_stats(year_int_to_str(year), experience='Veteran')\n",
        "    season_rookies['EXPERIENCE'] = 'Rookie'\n",
        "    season_sophomores['EXPERIENCE'] = 'Sophomore'\n",
        "    season_veterans['EXPERIENCE'] = 'Veteran'\n",
        "    season_data = pd.concat([season_rookies, season_sophomores, season_veterans])\n",
        "    season_data['YEAR'] = year_int_to_str(year)\n",
        "    player_stats = player_stats.append(season_data)\n",
        "    print(year_int_to_str(year)+\" done\")\n",
        "\n",
        "  player_stats.to_csv('player_stats.csv')\n",
        "\n",
        "# Scrapes the NBA website for a dataframe of players and their bio stats, and stores in a csv\n",
        "def scrape_player_bios():\n",
        "  response = requests.get(bio_url, headers=headers)\n",
        "  response.raise_for_status()\n",
        "  json = response.json()\n",
        "  table = json['resultSets'][0]\n",
        "  df = pd.DataFrame(table['rowSet'], columns=table['headers']).set_index('PERSON_ID')\n",
        "  df = df[df['FROM_YEAR'].astype(int) >= year_str_to_int(NBA_start_year)]\n",
        "\n",
        "  df.to_csv('player_bios.csv')\n",
        "\n",
        "# Normalizes the target dataframe using the \"using\" dataframe\n",
        "def normalize(target, using=None):\n",
        "  if using is None:\n",
        "    using = target\n",
        "\n",
        "  return (target - using.mean()) / using.std()\n",
        "\n",
        "# Gets a dataframe of normalized input data for the model from a given year\n",
        "def get_season_data(year, labeled=False):\n",
        "  rookies = player_stats[(player_stats['YEAR']==year) & (player_stats['EXPERIENCE']=='Rookie')].copy()\n",
        "  all_players = player_stats[player_stats['YEAR']==year].copy()\n",
        "  rookies[SA_stats] = normalize(rookies[SA_stats], using=all_players[SA_stats])\n",
        "\n",
        "  if labeled:\n",
        "    rookies['VETERAN'] = rookies.index.isin(veterans).astype(int)\n",
        "\n",
        "  return rookies\n",
        "\n",
        "# Gets a dataframe of normalized input data for the model over a range of years\n",
        "def get_rookie_data(start_year, end_year, labeled=False):\n",
        "  all_rookies = pd.DataFrame()\n",
        "  for year in range(year_str_to_int(start_year), year_str_to_int(end_year)+1):\n",
        "    season_rookies = get_season_data(year_int_to_str(year), labeled=labeled)\n",
        "    all_rookies = all_rookies.append(season_rookies)\n",
        "\n",
        "  all_rookies = all_rookies.merge(player_bios, left_index=True, right_index=True)\n",
        "  all_rookies[NSA_stats] = normalize(all_rookies[NSA_stats])\n",
        "\n",
        "  OH_encoder = OneHotEncoder(sparse=False)\n",
        "  one_hots = pd.DataFrame(OH_encoder.fit_transform(all_rookies[['POSITION']]))\n",
        "  one_hots.index = all_rookies.index\n",
        "  one_hots.columns = ['C', 'F', 'G']\n",
        "  all_rookies = all_rookies.merge(one_hots, left_index=True, right_index=True)\n",
        "\n",
        "  return all_rookies.drop('EXPERIENCE', axis=1)"
      ],
      "execution_count": null,
      "outputs": []
    },
    {
      "cell_type": "markdown",
      "metadata": {
        "id": "VowjCFHB3pKF"
      },
      "source": [
        "Scrape Data From NBA Website"
      ]
    },
    {
      "cell_type": "code",
      "metadata": {
        "colab": {
          "base_uri": "https://localhost:8080/"
        },
        "id": "7P_K930kw5bt",
        "outputId": "a78822e1-bd3e-4098-f1ca-ea26366aacc1"
      },
      "source": [
        "scrape_player_stats(NBA_start_year, NBA_end_year)"
      ],
      "execution_count": null,
      "outputs": [
        {
          "output_type": "stream",
          "name": "stdout",
          "text": [
            "1996-97 done\n",
            "1997-98 done\n",
            "1998-99 done\n",
            "1999-00 done\n",
            "2000-01 done\n",
            "2001-02 done\n",
            "2002-03 done\n",
            "2003-04 done\n",
            "2004-05 done\n",
            "2005-06 done\n",
            "2006-07 done\n",
            "2007-08 done\n",
            "2008-09 done\n",
            "2009-10 done\n",
            "2010-11 done\n",
            "2011-12 done\n",
            "2012-13 done\n",
            "2013-14 done\n",
            "2014-15 done\n",
            "2015-16 done\n",
            "2016-17 done\n",
            "2017-18 done\n",
            "2018-19 done\n",
            "2019-20 done\n",
            "2020-21 done\n",
            "2021-22 done\n"
          ]
        }
      ]
    },
    {
      "cell_type": "code",
      "metadata": {
        "id": "w37ukveEUPGS"
      },
      "source": [
        "scrape_player_bios()"
      ],
      "execution_count": null,
      "outputs": []
    },
    {
      "cell_type": "markdown",
      "metadata": {
        "id": "zcCyFuHf34LT"
      },
      "source": [
        "Retrieve Saved Player Data"
      ]
    },
    {
      "cell_type": "code",
      "metadata": {
        "id": "elaOv3ndxim1"
      },
      "source": [
        "player_stats = pd.read_csv('player_stats.csv', index_col=0)\n",
        "player_bios = pd.read_csv('player_bios.csv', index_col=0)[desired_bio_stats].dropna()\n",
        "player_bios['HEIGHT'] = player_bios['HEIGHT'].apply(lambda x: int(x[0])*12 + int(x[2:]))\n",
        "player_bios['POSITION'] = player_bios['POSITION'].apply(lambda x: x[0])"
      ],
      "execution_count": null,
      "outputs": []
    },
    {
      "cell_type": "markdown",
      "metadata": {
        "id": "5HgWKQLs3-3H"
      },
      "source": [
        "Get Veterans"
      ]
    },
    {
      "cell_type": "code",
      "metadata": {
        "id": "wt3jYmwv4BnW"
      },
      "source": [
        "veterans = player_stats[player_stats['EXPERIENCE']=='Veteran'].index.drop_duplicates()"
      ],
      "execution_count": null,
      "outputs": []
    },
    {
      "cell_type": "markdown",
      "metadata": {
        "id": "bvccmHwDV0qB"
      },
      "source": [
        "Get Model Training Data"
      ]
    },
    {
      "cell_type": "code",
      "metadata": {
        "id": "JIFSPaRQJKJ-"
      },
      "source": [
        "rookie_data = get_rookie_data('2003-04', '2017-18', labeled=True)"
      ],
      "execution_count": null,
      "outputs": []
    },
    {
      "cell_type": "code",
      "metadata": {
        "id": "GbpORgTOpOl9"
      },
      "source": [
        "model_features = [\n",
        "    'AGE',\n",
        "    'GP',\n",
        "    'MIN',\n",
        "    'PTS',\n",
        "    'FG_PCT',\n",
        "    'FG3_PCT',\n",
        "    'FT_PCT',\n",
        "    'OREB',\n",
        "    'DREB',\n",
        "    'AST',\n",
        "    'TOV',\n",
        "    'STL',\n",
        "    'BLK',\n",
        "    'C',\n",
        "    'F',\n",
        "    'G',\n",
        "]\n",
        "\n",
        "model_target = 'VETERAN'\n",
        "\n",
        "X = rookie_data[model_features]\n",
        "y = rookie_data[model_target]"
      ],
      "execution_count": null,
      "outputs": []
    },
    {
      "cell_type": "markdown",
      "metadata": {
        "id": "-O4NpDu8sjtr"
      },
      "source": [
        "View Correlation Between Features And Target"
      ]
    },
    {
      "cell_type": "code",
      "metadata": {
        "colab": {
          "base_uri": "https://localhost:8080/"
        },
        "id": "PpnbPsKh6D7w",
        "outputId": "28508d37-30ad-472b-e9b5-8c7d7f2218fb"
      },
      "source": [
        "# Top Corrs: GP (0.506), MIN (0.383), AGE (-0.352), FT_PCT (0.290)\n",
        "corrs = X.corrwith(y)\n",
        "sorted_corrs = corrs.iloc[(-corrs.abs()).argsort()]\n",
        "sorted_corrs"
      ],
      "execution_count": null,
      "outputs": [
        {
          "output_type": "execute_result",
          "data": {
            "text/plain": [
              "GP         0.506556\n",
              "MIN        0.383246\n",
              "AGE       -0.352085\n",
              "FT_PCT     0.290194\n",
              "FG_PCT     0.235404\n",
              "PTS        0.187999\n",
              "FG3_PCT    0.161204\n",
              "DREB       0.103937\n",
              "TOV       -0.064630\n",
              "BLK        0.059986\n",
              "G         -0.045346\n",
              "C          0.026960\n",
              "F          0.026379\n",
              "STL        0.022188\n",
              "AST        0.016325\n",
              "OREB      -0.012371\n",
              "dtype: float64"
            ]
          },
          "metadata": {},
          "execution_count": 11
        }
      ]
    },
    {
      "cell_type": "code",
      "source": [
        "sorted_corrs.plot.bar(color = \"#e95e24\")"
      ],
      "metadata": {
        "colab": {
          "base_uri": "https://localhost:8080/",
          "height": 317
        },
        "id": "3FeQW45U2E-w",
        "outputId": "b230a336-92d3-4416-94d0-dd2baa3f8d46"
      },
      "execution_count": null,
      "outputs": [
        {
          "output_type": "execute_result",
          "data": {
            "text/plain": [
              "<matplotlib.axes._subplots.AxesSubplot at 0x7f8a270be490>"
            ]
          },
          "metadata": {},
          "execution_count": 16
        },
        {
          "output_type": "display_data",
          "data": {
            "image/png": "[encoded data removed]",
            "text/plain": [
              "<Figure size 432x288 with 1 Axes>"
            ]
          },
          "metadata": {
            "needs_background": "light"
          }
        }
      ]
    },
    {
      "cell_type": "markdown",
      "source": [
        "Visualization of GP and FT_PCT Features in Comparison With Veteran Status"
      ],
      "metadata": {
        "id": "xJS5ghemjYGd"
      }
    },
    {
      "cell_type": "code",
      "metadata": {
        "id": "T-_ISBxWCmSf",
        "colab": {
          "base_uri": "https://localhost:8080/",
          "height": 454
        },
        "outputId": "54ee9e16-46ac-42f7-a876-c7683bd7e4c2"
      },
      "source": [
        "colormap = [\"#242841\", \"#e95e24\"]\n",
        "\n",
        "sbn.set_theme(style= 'white')\n",
        "g = sbn.JointGrid(\n",
        "    data= rookie_data,\n",
        "    x= \"GP\",\n",
        "    y= \"FT_PCT\",\n",
        "    hue= \"VETERAN\",\n",
        "    space= 0,\n",
        "    palette= colormap\n",
        ")\n",
        "g.plot_joint(\n",
        "    sbn.scatterplot,\n",
        "    alpha= 1/2\n",
        ")\n",
        "g.plot_marginals(\n",
        "    sbn.histplot,\n",
        "    alpha= 3/4\n",
        ")"
      ],
      "execution_count": null,
      "outputs": [
        {
          "output_type": "execute_result",
          "data": {
            "text/plain": [
              "<seaborn.axisgrid.JointGrid at 0x7f0003d2e750>"
            ]
          },
          "metadata": {},
          "execution_count": 11
        },
        {
          "output_type": "display_data",
          "data": {
            "image/png": "[encoded data removed]",
            "text/plain": [
              "<Figure size 432x432 with 3 Axes>"
            ]
          },
          "metadata": {}
        }
      ]
    },
    {
      "cell_type": "markdown",
      "metadata": {
        "id": "ieswDFlkWIA2"
      },
      "source": [
        "Define and Train Model"
      ]
    },
    {
      "cell_type": "code",
      "metadata": {
        "colab": {
          "base_uri": "https://localhost:8080/"
        },
        "id": "U5TlpuzxrcfZ",
        "outputId": "3d3e498d-bd9e-4086-d6d5-192fc147cab4"
      },
      "source": [
        "X_train, X_valid, y_train, y_valid = train_test_split(X, y, test_size=0.2, stratify=y)\n",
        "\n",
        "NUM_FEATURES = len(model_features)\n",
        "DROPOUT_RATE = 0.3\n",
        "\n",
        "# building the neural network\n",
        "# 3 hidden layers, 1 output layer\n",
        "model = models.Sequential([\n",
        "    layers.Dense(40, activation= 'relu', input_shape = [NUM_FEATURES]),\n",
        "    layers.Dropout(DROPOUT_RATE),\n",
        "    layers.BatchNormalization(),\n",
        "    layers.Dense(40, activation= 'relu'),\n",
        "    layers.Dropout(DROPOUT_RATE),\n",
        "    layers.BatchNormalization(),\n",
        "    layers.Dense(40, activation= 'relu'),\n",
        "    layers.Dropout(DROPOUT_RATE),\n",
        "    layers.BatchNormalization(),\n",
        "    layers.Dense(1, activation= 'sigmoid')\n",
        "])\n",
        "\n",
        "model.compile(\n",
        "    optimizer='adam',\n",
        "    loss='binary_crossentropy',\n",
        "    metrics=['binary_accuracy', metrics.Precision(), metrics.Recall()]\n",
        ")\n",
        "\n",
        "early_stopping = callbacks.EarlyStopping(\n",
        "    min_delta=0.001,\n",
        "    patience=20,\n",
        "    restore_best_weights=True\n",
        ")\n",
        "\n",
        "history = model.fit(X_train, y_train, validation_data=(X_valid, y_valid), batch_size=20, epochs=500, callbacks=[early_stopping])"
      ],
      "execution_count": null,
      "outputs": [
        {
          "output_type": "stream",
          "name": "stdout",
          "text": [
            "Epoch 1/500\n",
            "46/46 [==============================] - 3s 15ms/step - loss: 0.7176 - binary_accuracy: 0.5746 - precision: 0.7121 - recall: 0.6092 - val_loss: 0.6295 - val_binary_accuracy: 0.6711 - val_precision: 0.6974 - val_recall: 0.8947\n",
            "Epoch 2/500\n",
            "46/46 [==============================] - 0s 4ms/step - loss: 0.6350 - binary_accuracy: 0.6700 - precision: 0.7637 - recall: 0.7323 - val_loss: 0.5729 - val_binary_accuracy: 0.7105 - val_precision: 0.7287 - val_recall: 0.9013\n",
            "Epoch 3/500\n",
            "46/46 [==============================] - 0s 4ms/step - loss: 0.6131 - binary_accuracy: 0.6623 - precision: 0.7463 - recall: 0.7488 - val_loss: 0.5365 - val_binary_accuracy: 0.7193 - val_precision: 0.7391 - val_recall: 0.8947\n",
            "Epoch 4/500\n",
            "46/46 [==============================] - 0s 4ms/step - loss: 0.5771 - binary_accuracy: 0.7138 - precision: 0.7719 - recall: 0.8112 - val_loss: 0.5206 - val_binary_accuracy: 0.7149 - val_precision: 0.7351 - val_recall: 0.8947\n",
            "Epoch 5/500\n",
            "46/46 [==============================] - 0s 5ms/step - loss: 0.5400 - binary_accuracy: 0.7204 - precision: 0.7731 - recall: 0.8227 - val_loss: 0.5096 - val_binary_accuracy: 0.7237 - val_precision: 0.7486 - val_recall: 0.8816\n",
            "Epoch 6/500\n",
            "46/46 [==============================] - 0s 5ms/step - loss: 0.5253 - binary_accuracy: 0.7248 - precision: 0.7806 - recall: 0.8177 - val_loss: 0.5015 - val_binary_accuracy: 0.7237 - val_precision: 0.7514 - val_recall: 0.8750\n",
            "Epoch 7/500\n",
            "46/46 [==============================] - 0s 6ms/step - loss: 0.5007 - binary_accuracy: 0.7566 - precision: 0.8000 - recall: 0.8473 - val_loss: 0.5040 - val_binary_accuracy: 0.7325 - val_precision: 0.7600 - val_recall: 0.8750\n",
            "Epoch 8/500\n",
            "46/46 [==============================] - 0s 5ms/step - loss: 0.5263 - binary_accuracy: 0.7281 - precision: 0.7773 - recall: 0.8309 - val_loss: 0.5026 - val_binary_accuracy: 0.7500 - val_precision: 0.7778 - val_recall: 0.8750\n",
            "Epoch 9/500\n",
            "46/46 [==============================] - 0s 5ms/step - loss: 0.4904 - binary_accuracy: 0.7467 - precision: 0.7890 - recall: 0.8473 - val_loss: 0.4987 - val_binary_accuracy: 0.7412 - val_precision: 0.7751 - val_recall: 0.8618\n",
            "Epoch 10/500\n",
            "46/46 [==============================] - 0s 5ms/step - loss: 0.4912 - binary_accuracy: 0.7401 - precision: 0.7853 - recall: 0.8407 - val_loss: 0.4918 - val_binary_accuracy: 0.7412 - val_precision: 0.7751 - val_recall: 0.8618\n",
            "Epoch 11/500\n",
            "46/46 [==============================] - 0s 5ms/step - loss: 0.5143 - binary_accuracy: 0.7478 - precision: 0.7938 - recall: 0.8407 - val_loss: 0.4880 - val_binary_accuracy: 0.7325 - val_precision: 0.7791 - val_recall: 0.8355\n",
            "Epoch 12/500\n",
            "46/46 [==============================] - 0s 6ms/step - loss: 0.4869 - binary_accuracy: 0.7621 - precision: 0.8025 - recall: 0.8539 - val_loss: 0.4869 - val_binary_accuracy: 0.7325 - val_precision: 0.7758 - val_recall: 0.8421\n",
            "Epoch 13/500\n",
            "46/46 [==============================] - 0s 5ms/step - loss: 0.4721 - binary_accuracy: 0.7654 - precision: 0.8072 - recall: 0.8522 - val_loss: 0.4897 - val_binary_accuracy: 0.7325 - val_precision: 0.7692 - val_recall: 0.8553\n",
            "Epoch 14/500\n",
            "46/46 [==============================] - 0s 5ms/step - loss: 0.4899 - binary_accuracy: 0.7522 - precision: 0.7924 - recall: 0.8522 - val_loss: 0.4914 - val_binary_accuracy: 0.7412 - val_precision: 0.7719 - val_recall: 0.8684\n",
            "Epoch 15/500\n",
            "46/46 [==============================] - 0s 5ms/step - loss: 0.4549 - binary_accuracy: 0.7851 - precision: 0.8162 - recall: 0.8752 - val_loss: 0.4963 - val_binary_accuracy: 0.7368 - val_precision: 0.7706 - val_recall: 0.8618\n",
            "Epoch 16/500\n",
            "46/46 [==============================] - 0s 6ms/step - loss: 0.4753 - binary_accuracy: 0.7588 - precision: 0.7988 - recall: 0.8539 - val_loss: 0.4962 - val_binary_accuracy: 0.7500 - val_precision: 0.7746 - val_recall: 0.8816\n",
            "Epoch 17/500\n",
            "46/46 [==============================] - 0s 5ms/step - loss: 0.4899 - binary_accuracy: 0.7511 - precision: 0.7938 - recall: 0.8473 - val_loss: 0.4960 - val_binary_accuracy: 0.7412 - val_precision: 0.7719 - val_recall: 0.8684\n",
            "Epoch 18/500\n",
            "46/46 [==============================] - 0s 5ms/step - loss: 0.4816 - binary_accuracy: 0.7412 - precision: 0.7830 - recall: 0.8473 - val_loss: 0.4945 - val_binary_accuracy: 0.7412 - val_precision: 0.7627 - val_recall: 0.8882\n",
            "Epoch 19/500\n",
            "46/46 [==============================] - 0s 5ms/step - loss: 0.4920 - binary_accuracy: 0.7401 - precision: 0.7776 - recall: 0.8555 - val_loss: 0.4918 - val_binary_accuracy: 0.7325 - val_precision: 0.7571 - val_recall: 0.8816\n",
            "Epoch 20/500\n",
            "46/46 [==============================] - 0s 5ms/step - loss: 0.4519 - binary_accuracy: 0.7785 - precision: 0.8088 - recall: 0.8752 - val_loss: 0.4923 - val_binary_accuracy: 0.7281 - val_precision: 0.7528 - val_recall: 0.8816\n",
            "Epoch 21/500\n",
            "46/46 [==============================] - 0s 5ms/step - loss: 0.4471 - binary_accuracy: 0.7763 - precision: 0.8159 - recall: 0.8588 - val_loss: 0.4930 - val_binary_accuracy: 0.7281 - val_precision: 0.7528 - val_recall: 0.8816\n",
            "Epoch 22/500\n",
            "46/46 [==============================] - 0s 5ms/step - loss: 0.4459 - binary_accuracy: 0.7950 - precision: 0.8216 - recall: 0.8851 - val_loss: 0.4938 - val_binary_accuracy: 0.7325 - val_precision: 0.7542 - val_recall: 0.8882\n",
            "Epoch 23/500\n",
            "46/46 [==============================] - 0s 5ms/step - loss: 0.4659 - binary_accuracy: 0.7664 - precision: 0.8009 - recall: 0.8654 - val_loss: 0.4947 - val_binary_accuracy: 0.7325 - val_precision: 0.7542 - val_recall: 0.8882\n",
            "Epoch 24/500\n",
            "46/46 [==============================] - 0s 6ms/step - loss: 0.4825 - binary_accuracy: 0.7500 - precision: 0.7908 - recall: 0.8506 - val_loss: 0.4898 - val_binary_accuracy: 0.7325 - val_precision: 0.7542 - val_recall: 0.8882\n",
            "Epoch 25/500\n",
            "46/46 [==============================] - 0s 6ms/step - loss: 0.4538 - binary_accuracy: 0.7708 - precision: 0.8096 - recall: 0.8588 - val_loss: 0.4929 - val_binary_accuracy: 0.7325 - val_precision: 0.7542 - val_recall: 0.8882\n",
            "Epoch 26/500\n",
            "46/46 [==============================] - 0s 6ms/step - loss: 0.4556 - binary_accuracy: 0.7675 - precision: 0.8078 - recall: 0.8555 - val_loss: 0.4912 - val_binary_accuracy: 0.7281 - val_precision: 0.7528 - val_recall: 0.8816\n",
            "Epoch 27/500\n",
            "46/46 [==============================] - 0s 5ms/step - loss: 0.4407 - binary_accuracy: 0.7796 - precision: 0.8072 - recall: 0.8801 - val_loss: 0.4903 - val_binary_accuracy: 0.7237 - val_precision: 0.7514 - val_recall: 0.8750\n",
            "Epoch 28/500\n",
            "46/46 [==============================] - 0s 5ms/step - loss: 0.4679 - binary_accuracy: 0.7763 - precision: 0.8140 - recall: 0.8621 - val_loss: 0.4871 - val_binary_accuracy: 0.7456 - val_precision: 0.7733 - val_recall: 0.8750\n",
            "Epoch 29/500\n",
            "46/46 [==============================] - 0s 5ms/step - loss: 0.4568 - binary_accuracy: 0.7686 - precision: 0.8159 - recall: 0.8440 - val_loss: 0.4883 - val_binary_accuracy: 0.7281 - val_precision: 0.7528 - val_recall: 0.8816\n",
            "Epoch 30/500\n",
            "46/46 [==============================] - 0s 5ms/step - loss: 0.4514 - binary_accuracy: 0.7873 - precision: 0.8227 - recall: 0.8686 - val_loss: 0.4906 - val_binary_accuracy: 0.7325 - val_precision: 0.7571 - val_recall: 0.8816\n",
            "Epoch 31/500\n",
            "46/46 [==============================] - 0s 5ms/step - loss: 0.4532 - binary_accuracy: 0.7697 - precision: 0.8132 - recall: 0.8506 - val_loss: 0.4919 - val_binary_accuracy: 0.7368 - val_precision: 0.7614 - val_recall: 0.8816\n",
            "Epoch 32/500\n",
            "46/46 [==============================] - 0s 5ms/step - loss: 0.4300 - binary_accuracy: 0.7862 - precision: 0.8204 - recall: 0.8703 - val_loss: 0.4899 - val_binary_accuracy: 0.7412 - val_precision: 0.7657 - val_recall: 0.8816\n"
          ]
        }
      ]
    },
    {
      "cell_type": "markdown",
      "metadata": {
        "id": "hKZ8LzQxWPi_"
      },
      "source": [
        "Test Model"
      ]
    },
    {
      "cell_type": "code",
      "metadata": {
        "id": "dOwm17hNWXX2",
        "colab": {
          "base_uri": "https://localhost:8080/"
        },
        "outputId": "30eb9d86-7366-4f06-8d05-88b8371a715f"
      },
      "source": [
        "[loss, binary_accuracy, precision, recall] = model.evaluate(X_valid, y_valid)\n",
        "f1_score = 2*precision*recall/(precision+recall)"
      ],
      "execution_count": null,
      "outputs": [
        {
          "output_type": "stream",
          "name": "stdout",
          "text": [
            "8/8 [==============================] - 0s 3ms/step - loss: 0.4869 - binary_accuracy: 0.7325 - precision: 0.7758 - recall: 0.8421\n"
          ]
        }
      ]
    },
    {
      "cell_type": "code",
      "source": [
        "print('{:<20}{:.4f}\\n{:<20}{:.4f}\\n{:<20}{:.4f}\\n{:<20}{:.4f}\\n{:<20}{:.4f}'.format('loss:', loss, 'binary_accuracy:', binary_accuracy, 'precision:', precision, 'recall:', recall, 'f1 score:', f1_score))"
      ],
      "metadata": {
        "colab": {
          "base_uri": "https://localhost:8080/"
        },
        "id": "wjN6Ayg7Tri0",
        "outputId": "41fcbb7c-fb8d-4d16-c623-d8e1796cd461"
      },
      "execution_count": null,
      "outputs": [
        {
          "output_type": "stream",
          "name": "stdout",
          "text": [
            "loss:               0.4869\n",
            "binary_accuracy:    0.7325\n",
            "precision:          0.7758\n",
            "recall:             0.8421\n",
            "f1 score:           0.8076\n"
          ]
        }
      ]
    },
    {
      "cell_type": "markdown",
      "metadata": {
        "id": "Dvk0o6rmWRxz"
      },
      "source": [
        "Use Data From the 2021-22 Season to Predict Future Veterans"
      ]
    },
    {
      "cell_type": "code",
      "metadata": {
        "id": "4rEByr0pWX17"
      },
      "source": [
        "predict_data = get_rookie_data('2020-21', '2021-22')[ID_columns+model_features]"
      ],
      "execution_count": null,
      "outputs": []
    },
    {
      "cell_type": "code",
      "metadata": {
        "colab": {
          "base_uri": "https://localhost:8080/",
          "height": 507
        },
        "id": "5dxwEJ13bKjL",
        "outputId": "9416fafa-9fed-4ba9-dc6a-3f5fb70c2558"
      },
      "source": [
        "predictions = model.predict(predict_data[model_features])\n",
        "predict_data[model_target] = predictions\n",
        "predict_data.sort_values('VETERAN')"
      ],
      "execution_count": null,
      "outputs": [
        {
          "output_type": "execute_result",
          "data": {
            "text/html": [
              "<div>\n",
              "<style scoped>\n",
              "    .dataframe tbody tr th:only-of-type {\n",
              "        vertical-align: middle;\n",
              "    }\n",
              "\n",
              "    .dataframe tbody tr th {\n",
              "        vertical-align: top;\n",
              "    }\n",
              "\n",
              "    .dataframe thead th {\n",
              "        text-align: right;\n",
              "    }\n",
              "</style>\n",
              "<table border=\"1\" class=\"dataframe\">\n",
              "  <thead>\n",
              "    <tr style=\"text-align: right;\">\n",
              "      <th></th>\n",
              "      <th>PLAYER_NAME</th>\n",
              "      <th>TEAM_ABBREVIATION</th>\n",
              "      <th>POSITION</th>\n",
              "      <th>AGE</th>\n",
              "      <th>GP</th>\n",
              "      <th>MIN</th>\n",
              "      <th>PTS</th>\n",
              "      <th>FG_PCT</th>\n",
              "      <th>FG3_PCT</th>\n",
              "      <th>FT_PCT</th>\n",
              "      <th>OREB</th>\n",
              "      <th>DREB</th>\n",
              "      <th>AST</th>\n",
              "      <th>TOV</th>\n",
              "      <th>STL</th>\n",
              "      <th>BLK</th>\n",
              "      <th>C</th>\n",
              "      <th>F</th>\n",
              "      <th>G</th>\n",
              "      <th>VETERAN</th>\n",
              "    </tr>\n",
              "  </thead>\n",
              "  <tbody>\n",
              "    <tr>\n",
              "      <th>1630266</th>\n",
              "      <td>Will Magnay</td>\n",
              "      <td>NOP</td>\n",
              "      <td>C</td>\n",
              "      <td>0.599538</td>\n",
              "      <td>-2.013486</td>\n",
              "      <td>-1.775618</td>\n",
              "      <td>-2.689096</td>\n",
              "      <td>-4.114300</td>\n",
              "      <td>-2.210593</td>\n",
              "      <td>-3.763282</td>\n",
              "      <td>-1.195397</td>\n",
              "      <td>-2.347831</td>\n",
              "      <td>-1.587378</td>\n",
              "      <td>5.687257</td>\n",
              "      <td>-1.914340</td>\n",
              "      <td>-1.003249</td>\n",
              "      <td>1.0</td>\n",
              "      <td>0.0</td>\n",
              "      <td>0.0</td>\n",
              "      <td>0.023063</td>\n",
              "    </tr>\n",
              "    <tr>\n",
              "      <th>204222</th>\n",
              "      <td>Greg Whittington</td>\n",
              "      <td>DEN</td>\n",
              "      <td>F</td>\n",
              "      <td>2.975585</td>\n",
              "      <td>-1.868605</td>\n",
              "      <td>-1.807858</td>\n",
              "      <td>-2.689096</td>\n",
              "      <td>-4.114300</td>\n",
              "      <td>-2.210593</td>\n",
              "      <td>-3.763282</td>\n",
              "      <td>-1.195397</td>\n",
              "      <td>-2.347831</td>\n",
              "      <td>-1.587378</td>\n",
              "      <td>-1.255603</td>\n",
              "      <td>-1.914340</td>\n",
              "      <td>-1.003249</td>\n",
              "      <td>0.0</td>\n",
              "      <td>1.0</td>\n",
              "      <td>0.0</td>\n",
              "      <td>0.027028</td>\n",
              "    </tr>\n",
              "    <tr>\n",
              "      <th>1630204</th>\n",
              "      <td>Ashton Hagans</td>\n",
              "      <td>MIN</td>\n",
              "      <td>G</td>\n",
              "      <td>-0.350881</td>\n",
              "      <td>-1.965193</td>\n",
              "      <td>-1.915323</td>\n",
              "      <td>-2.689096</td>\n",
              "      <td>-4.114300</td>\n",
              "      <td>-2.210593</td>\n",
              "      <td>-3.763282</td>\n",
              "      <td>-1.195397</td>\n",
              "      <td>-2.347831</td>\n",
              "      <td>-1.587378</td>\n",
              "      <td>4.472256</td>\n",
              "      <td>-1.914340</td>\n",
              "      <td>-1.003249</td>\n",
              "      <td>0.0</td>\n",
              "      <td>0.0</td>\n",
              "      <td>1.0</td>\n",
              "      <td>0.049865</td>\n",
              "    </tr>\n",
              "    <tr>\n",
              "      <th>1630688</th>\n",
              "      <td>Ish Wainright</td>\n",
              "      <td>PHX</td>\n",
              "      <td>F</td>\n",
              "      <td>2.500375</td>\n",
              "      <td>-1.456815</td>\n",
              "      <td>-1.399827</td>\n",
              "      <td>-1.922494</td>\n",
              "      <td>-1.846961</td>\n",
              "      <td>-1.611892</td>\n",
              "      <td>-2.440264</td>\n",
              "      <td>1.248304</td>\n",
              "      <td>-0.844418</td>\n",
              "      <td>-0.259639</td>\n",
              "      <td>0.330220</td>\n",
              "      <td>1.646676</td>\n",
              "      <td>-0.969377</td>\n",
              "      <td>0.0</td>\n",
              "      <td>1.0</td>\n",
              "      <td>0.0</td>\n",
              "      <td>0.072631</td>\n",
              "    </tr>\n",
              "    <tr>\n",
              "      <th>1629833</th>\n",
              "      <td>Keljin Blevins</td>\n",
              "      <td>POR</td>\n",
              "      <td>G</td>\n",
              "      <td>1.549956</td>\n",
              "      <td>-1.240788</td>\n",
              "      <td>-1.657407</td>\n",
              "      <td>-1.655292</td>\n",
              "      <td>-1.812589</td>\n",
              "      <td>-0.379824</td>\n",
              "      <td>-3.763282</td>\n",
              "      <td>0.040820</td>\n",
              "      <td>-0.841141</td>\n",
              "      <td>-0.781055</td>\n",
              "      <td>0.306540</td>\n",
              "      <td>-0.492885</td>\n",
              "      <td>-1.003249</td>\n",
              "      <td>0.0</td>\n",
              "      <td>0.0</td>\n",
              "      <td>1.0</td>\n",
              "      <td>0.074663</td>\n",
              "    </tr>\n",
              "    <tr>\n",
              "      <th>...</th>\n",
              "      <td>...</td>\n",
              "      <td>...</td>\n",
              "      <td>...</td>\n",
              "      <td>...</td>\n",
              "      <td>...</td>\n",
              "      <td>...</td>\n",
              "      <td>...</td>\n",
              "      <td>...</td>\n",
              "      <td>...</td>\n",
              "      <td>...</td>\n",
              "      <td>...</td>\n",
              "      <td>...</td>\n",
              "      <td>...</td>\n",
              "      <td>...</td>\n",
              "      <td>...</td>\n",
              "      <td>...</td>\n",
              "      <td>...</td>\n",
              "      <td>...</td>\n",
              "      <td>...</td>\n",
              "      <td>...</td>\n",
              "    </tr>\n",
              "    <tr>\n",
              "      <th>1630180</th>\n",
              "      <td>Saddiq Bey</td>\n",
              "      <td>DET</td>\n",
              "      <td>F</td>\n",
              "      <td>0.124328</td>\n",
              "      <td>1.318773</td>\n",
              "      <td>0.803539</td>\n",
              "      <td>0.214859</td>\n",
              "      <td>-0.394735</td>\n",
              "      <td>0.572176</td>\n",
              "      <td>0.596084</td>\n",
              "      <td>-0.597666</td>\n",
              "      <td>0.019825</td>\n",
              "      <td>-0.677680</td>\n",
              "      <td>-0.500281</td>\n",
              "      <td>-0.310647</td>\n",
              "      <td>-0.667580</td>\n",
              "      <td>0.0</td>\n",
              "      <td>1.0</td>\n",
              "      <td>0.0</td>\n",
              "      <td>0.988362</td>\n",
              "    </tr>\n",
              "    <tr>\n",
              "      <th>1630532</th>\n",
              "      <td>Franz Wagner</td>\n",
              "      <td>ORL</td>\n",
              "      <td>F</td>\n",
              "      <td>-0.826091</td>\n",
              "      <td>1.177745</td>\n",
              "      <td>1.189219</td>\n",
              "      <td>0.219662</td>\n",
              "      <td>0.027594</td>\n",
              "      <td>0.438991</td>\n",
              "      <td>0.445867</td>\n",
              "      <td>-0.088296</td>\n",
              "      <td>-0.543637</td>\n",
              "      <td>0.042469</td>\n",
              "      <td>-0.390154</td>\n",
              "      <td>0.329732</td>\n",
              "      <td>-0.231619</td>\n",
              "      <td>0.0</td>\n",
              "      <td>1.0</td>\n",
              "      <td>0.0</td>\n",
              "      <td>0.989501</td>\n",
              "    </tr>\n",
              "    <tr>\n",
              "      <th>1630596</th>\n",
              "      <td>Evan Mobley</td>\n",
              "      <td>CLE</td>\n",
              "      <td>C</td>\n",
              "      <td>-0.826091</td>\n",
              "      <td>0.623101</td>\n",
              "      <td>1.408145</td>\n",
              "      <td>0.116751</td>\n",
              "      <td>0.185384</td>\n",
              "      <td>0.259187</td>\n",
              "      <td>0.420358</td>\n",
              "      <td>0.081227</td>\n",
              "      <td>0.511477</td>\n",
              "      <td>-0.133707</td>\n",
              "      <td>-0.099860</td>\n",
              "      <td>-0.168409</td>\n",
              "      <td>1.506354</td>\n",
              "      <td>1.0</td>\n",
              "      <td>0.0</td>\n",
              "      <td>0.0</td>\n",
              "      <td>0.990141</td>\n",
              "    </tr>\n",
              "    <tr>\n",
              "      <th>1630162</th>\n",
              "      <td>Anthony Edwards</td>\n",
              "      <td>MIN</td>\n",
              "      <td>G</td>\n",
              "      <td>-1.301300</td>\n",
              "      <td>1.415361</td>\n",
              "      <td>1.319370</td>\n",
              "      <td>1.217917</td>\n",
              "      <td>-0.275046</td>\n",
              "      <td>0.198699</td>\n",
              "      <td>0.244856</td>\n",
              "      <td>-0.517596</td>\n",
              "      <td>-0.385848</td>\n",
              "      <td>0.015221</td>\n",
              "      <td>0.314651</td>\n",
              "      <td>0.228913</td>\n",
              "      <td>-0.289561</td>\n",
              "      <td>0.0</td>\n",
              "      <td>0.0</td>\n",
              "      <td>1.0</td>\n",
              "      <td>0.993397</td>\n",
              "    </tr>\n",
              "    <tr>\n",
              "      <th>1630172</th>\n",
              "      <td>Patrick Williams</td>\n",
              "      <td>CHI</td>\n",
              "      <td>F</td>\n",
              "      <td>-1.301300</td>\n",
              "      <td>1.367067</td>\n",
              "      <td>0.868018</td>\n",
              "      <td>-0.546322</td>\n",
              "      <td>0.332606</td>\n",
              "      <td>0.652730</td>\n",
              "      <td>-0.003070</td>\n",
              "      <td>-0.318082</td>\n",
              "      <td>-0.149900</td>\n",
              "      <td>-0.697243</td>\n",
              "      <td>-0.105925</td>\n",
              "      <td>0.103209</td>\n",
              "      <td>-0.017899</td>\n",
              "      <td>0.0</td>\n",
              "      <td>1.0</td>\n",
              "      <td>0.0</td>\n",
              "      <td>0.994467</td>\n",
              "    </tr>\n",
              "  </tbody>\n",
              "</table>\n",
              "<p>172 rows × 20 columns</p>\n",
              "</div>"
            ],
            "text/plain": [
              "              PLAYER_NAME TEAM_ABBREVIATION POSITION  ...    F    G   VETERAN\n",
              "1630266       Will Magnay               NOP        C  ...  0.0  0.0  0.023063\n",
              "204222   Greg Whittington               DEN        F  ...  1.0  0.0  0.027028\n",
              "1630204     Ashton Hagans               MIN        G  ...  0.0  1.0  0.049865\n",
              "1630688     Ish Wainright               PHX        F  ...  1.0  0.0  0.072631\n",
              "1629833    Keljin Blevins               POR        G  ...  0.0  1.0  0.074663\n",
              "...                   ...               ...      ...  ...  ...  ...       ...\n",
              "1630180        Saddiq Bey               DET        F  ...  1.0  0.0  0.988362\n",
              "1630532      Franz Wagner               ORL        F  ...  1.0  0.0  0.989501\n",
              "1630596       Evan Mobley               CLE        C  ...  0.0  0.0  0.990141\n",
              "1630162   Anthony Edwards               MIN        G  ...  0.0  1.0  0.993397\n",
              "1630172  Patrick Williams               CHI        F  ...  1.0  0.0  0.994467\n",
              "\n",
              "[172 rows x 20 columns]"
            ]
          },
          "metadata": {},
          "execution_count": 16
        }
      ]
    },
    {
      "cell_type": "code",
      "metadata": {
        "id": "KwthyN7TwOhd"
      },
      "source": [
        "# plotting 2021 rookies\n",
        "# can specify x and y variables to plot as well as which rookies to label\n",
        "def plot_rookies(xvar = 'GP', yvar = 'MIN', rookie1 = 'Scottie Barnes', rookie2 = 'Franz Wagner', rookie3 = 'Evan Mobley'):\n",
        "\n",
        "  sbn.scatterplot(data=predict_data,\n",
        "                  x= xvar,\n",
        "                  y= yvar,\n",
        "                  hue=\"VETERAN\",\n",
        "                  palette=\"OrRd\")\n",
        "\n",
        "  r1 = predict_data[predict_data['PLAYER_NAME']== rookie1]\n",
        "  r2 = predict_data[predict_data['PLAYER_NAME']== rookie2]\n",
        "  r3 = predict_data[predict_data['PLAYER_NAME']== rookie3]\n",
        "\n",
        "  plt.annotate(rookie1,\n",
        "              xy = (r1[xvar].values[0], r1[yvar].values[0]),\n",
        "              xytext = (r1[xvar].values[0]+0.2, r1[yvar].values[0]-1),\n",
        "              arrowprops=dict(facecolor='black'))\n",
        "  plt.annotate(rookie2,\n",
        "              xy = (r2[xvar].values[0], r2[yvar].values[0]),\n",
        "              xytext = (r2[xvar].values[0]+0.3, r2[yvar].values[0]-0.3),\n",
        "              arrowprops=dict(facecolor='black'))\n",
        "  plt.annotate(rookie3,\n",
        "              xy = (r3[xvar].values[0], r3[yvar].values[0]),\n",
        "              xytext = (r3[xvar].values[0]+0.1, r3[yvar].values[0]-1.2),\n",
        "              arrowprops=dict(facecolor='black'))\n",
        "  plt.legend(loc=\"lower right\")\n",
        "\n"
      ],
      "execution_count": null,
      "outputs": []
    },
    {
      "cell_type": "code",
      "metadata": {
        "colab": {
          "base_uri": "https://localhost:8080/",
          "height": 285
        },
        "id": "5vrAc9Kbzwrq",
        "outputId": "7876ff33-b05e-45d6-859e-2e0e83174f8f"
      },
      "source": [
        "plot_rookies()"
      ],
      "execution_count": null,
      "outputs": [
        {
          "output_type": "display_data",
          "data": {
            "image/png": "[encoded data removed]",
            "text/plain": [
              "<Figure size 432x288 with 1 Axes>"
            ]
          },
          "metadata": {}
        }
      ]
    }
  ]
}